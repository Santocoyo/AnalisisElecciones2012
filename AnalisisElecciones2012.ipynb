{
  "nbformat": 4,
  "nbformat_minor": 0,
  "metadata": {
    "colab": {
      "name": "AnalisisElecciones2012.ipynb",
      "provenance": [],
      "collapsed_sections": [],
      "toc_visible": true
    },
    "kernelspec": {
      "name": "python3",
      "display_name": "Python 3"
    }
  },
  "cells": [
    {
      "cell_type": "markdown",
      "metadata": {
        "id": "ZYVsZUv1wHHm",
        "colab_type": "text"
      },
      "source": [
        "#Análisis de elecciones 2012"
      ]
    },
    {
      "cell_type": "markdown",
      "metadata": {
        "id": "cUArcCEqw8s4",
        "colab_type": "text"
      },
      "source": [
        "Se importa la libraría json y se declaran las 2 listas auxiliares que se utilizarán"
      ]
    },
    {
      "cell_type": "code",
      "metadata": {
        "id": "4ijNqf63wscV",
        "colab_type": "code",
        "colab": {}
      },
      "source": [
        "import json\n",
        "sabanas=list()\n",
        "lista=list()"
      ],
      "execution_count": 0,
      "outputs": []
    },
    {
      "cell_type": "markdown",
      "metadata": {
        "id": "ERGbpdRzw6lN",
        "colab_type": "text"
      },
      "source": [
        "Se procede a abrir el archivo de nombres de los archivos JSON y almacenarlos en la lista ```sabanas```\n",
        "\n"
      ]
    },
    {
      "cell_type": "code",
      "metadata": {
        "id": "8b9it47xxcpi",
        "colab_type": "code",
        "outputId": "edc88556-68a6-49ef-c588-4792a31ea6fb",
        "colab": {
          "base_uri": "https://localhost:8080/",
          "height": 231
        }
      },
      "source": [
        "file_nombre_archivos = open('nombre_archivos.txt')\n",
        "count = 0\n",
        "votos_totales = {}\n",
        "for archivo in file_nombre_archivos:    #Abrir cada archivo\n",
        "    archivo = archivo.rstrip()\n",
        "    data = json.load(open(archivo))\n",
        "    \n",
        "    for sabana in data['sabanas']:      #Abrir cada sabana\n",
        "        for partido in sabana['resultados'].keys():       #Contar los votos por partido\n",
        "            votos_totales[partido] = votos_totales.get(partido, 0) + int(sabana['resultados'][partido])\n",
        "\n",
        "#         count += 1\n",
        "#         print(count, sabana['id'], ' '.join([str(i) for i in votos_totales.values()]))\n",
        "\n",
        "# Separar los votos por partidos de los de coalision\n",
        "votos_partidos = {p: v for p, v in votos_totales.items() if '_' not in p}\n",
        "votos_coalision = {c: v for c, v in votos_totales.items() if '_' in c}"
      ],
      "execution_count": 2,
      "outputs": [
        {
          "output_type": "error",
          "ename": "FileNotFoundError",
          "evalue": "ignored",
          "traceback": [
            "\u001b[0;31m---------------------------------------------------------------------------\u001b[0m",
            "\u001b[0;31mFileNotFoundError\u001b[0m                         Traceback (most recent call last)",
            "\u001b[0;32m<ipython-input-2-cb04ac2bb420>\u001b[0m in \u001b[0;36m<module>\u001b[0;34m()\u001b[0m\n\u001b[1;32m      4\u001b[0m \u001b[0;32mfor\u001b[0m \u001b[0marchivo\u001b[0m \u001b[0;32min\u001b[0m \u001b[0mfile_nombre_archivos\u001b[0m\u001b[0;34m:\u001b[0m    \u001b[0;31m#Abrir cada archivo\u001b[0m\u001b[0;34m\u001b[0m\u001b[0;34m\u001b[0m\u001b[0m\n\u001b[1;32m      5\u001b[0m     \u001b[0marchivo\u001b[0m \u001b[0;34m=\u001b[0m \u001b[0marchivo\u001b[0m\u001b[0;34m.\u001b[0m\u001b[0mrstrip\u001b[0m\u001b[0;34m(\u001b[0m\u001b[0;34m)\u001b[0m\u001b[0;34m\u001b[0m\u001b[0;34m\u001b[0m\u001b[0m\n\u001b[0;32m----> 6\u001b[0;31m     \u001b[0mdata\u001b[0m \u001b[0;34m=\u001b[0m \u001b[0mjson\u001b[0m\u001b[0;34m.\u001b[0m\u001b[0mload\u001b[0m\u001b[0;34m(\u001b[0m\u001b[0mopen\u001b[0m\u001b[0;34m(\u001b[0m\u001b[0marchivo\u001b[0m\u001b[0;34m)\u001b[0m\u001b[0;34m)\u001b[0m\u001b[0;34m\u001b[0m\u001b[0;34m\u001b[0m\u001b[0m\n\u001b[0m\u001b[1;32m      7\u001b[0m \u001b[0;34m\u001b[0m\u001b[0m\n\u001b[1;32m      8\u001b[0m     \u001b[0;32mfor\u001b[0m \u001b[0msabana\u001b[0m \u001b[0;32min\u001b[0m \u001b[0mdata\u001b[0m\u001b[0;34m[\u001b[0m\u001b[0;34m'sabanas'\u001b[0m\u001b[0;34m]\u001b[0m\u001b[0;34m:\u001b[0m      \u001b[0;31m#Abrir cada sabana\u001b[0m\u001b[0;34m\u001b[0m\u001b[0;34m\u001b[0m\u001b[0m\n",
            "\u001b[0;31mFileNotFoundError\u001b[0m: [Errno 2] No such file or directory: 'file_id-27000.json'"
          ]
        }
      ]
    },
    {
      "cell_type": "code",
      "metadata": {
        "id": "WTJB8U46uKXW",
        "colab_type": "code",
        "colab": {}
      },
      "source": [
        "# Imprimir resultados\n",
        "print('Partido - Votos')\n",
        "for k, v in votos_totales.items():\n",
        "    print(k, v)\n",
        "\n",
        "print('Votos por partidos:', sum(votos_partidos.values()))\n",
        "print('Votos por coalisión:', sum(votos_coalision.values()))\n",
        "print('Total de votos:', sum(votos_totales.values()))"
      ],
      "execution_count": 0,
      "outputs": []
    },
    {
      "cell_type": "markdown",
      "metadata": {
        "id": "cfxePktq7Q72",
        "colab_type": "text"
      },
      "source": [
        "Creando una lista general con 23000 elementos"
      ]
    },
    {
      "cell_type": "code",
      "metadata": {
        "id": "atB86cp77W-G",
        "colab_type": "code",
        "colab": {}
      },
      "source": [
        "for i in range(46):\n",
        "    for j in range(500):\n",
        "        lista.append(sabanas[i][j])"
      ],
      "execution_count": 0,
      "outputs": []
    },
    {
      "cell_type": "markdown",
      "metadata": {
        "id": "5O5gqp8AAMjE",
        "colab_type": "text"
      },
      "source": [
        "Comprobando lista"
      ]
    },
    {
      "cell_type": "code",
      "metadata": {
        "id": "HCarl4h0-Re0",
        "colab_type": "code",
        "colab": {}
      },
      "source": [
        "print(len(lista))\n",
        "print(lista[0][\"id\"])\n",
        "print(lista[22001][\"id\"])\n",
        "print(lista[0][\"resultados\"][\"pan\"])"
      ],
      "execution_count": 0,
      "outputs": []
    }
  ]
}