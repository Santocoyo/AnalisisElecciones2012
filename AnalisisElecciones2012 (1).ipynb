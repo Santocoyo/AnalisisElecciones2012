{
 "cells": [
  {
   "cell_type": "markdown",
   "metadata": {
    "colab_type": "text",
    "id": "ZYVsZUv1wHHm"
   },
   "source": [
    "# Análisis de elecciones 2012"
   ]
  },
  {
   "cell_type": "markdown",
   "metadata": {
    "colab_type": "text",
    "id": "cUArcCEqw8s4"
   },
   "source": [
    "Se importa la libraría json"
   ]
  },
  {
   "cell_type": "code",
   "execution_count": 1,
   "metadata": {
    "colab": {},
    "colab_type": "code",
    "id": "4ijNqf63wscV"
   },
   "outputs": [],
   "source": [
    "import json"
   ]
  },
  {
   "cell_type": "markdown",
   "metadata": {
    "colab_type": "text",
    "id": "ERGbpdRzw6lN"
   },
   "source": [
    "Se procede a abrir el archivo de nombres de los archivos JSON\n",
    "\n"
   ]
  },
  {
   "cell_type": "code",
   "execution_count": 2,
   "metadata": {
    "colab": {},
    "colab_type": "code",
    "id": "8b9it47xxcpi"
   },
   "outputs": [],
   "source": [
    "file_nombre_archivos = open('nombre_archivos.txt')\n",
    "\n",
    "votos_totales = {}\n",
    "votos_totales_revisados = {}\n",
    "porcentaje={}\n",
    "votos_totales_entidad = {str(i):{} for i in range(1, 33)}\n",
    "votos_totales_entidad_revisados = {str(i):{} for i in range(1, 33)}\n",
    "estados = {'1': 'Aguascalientes', '2': 'Baja California', '3': 'Baja California Sur',\n",
    "           '4': 'Campeche', '5': 'Coahuila', '6': 'Colima', '7': 'Chiapas', '8': 'Chihuahua',\n",
    "           '9': 'Ciudad de México', '10': 'Durango', '11': 'Guanajuato', '12': 'Guerrero',\n",
    "           '13': 'Hidalgo', '14': 'Jalisco', '15': 'México', '16': 'Michoacán', '17': 'Morelos',\n",
    "           '18': 'Nayarit', '19': 'Nuevo León', '20': 'Oaxaca', '21': 'Puebla', '22': 'Querétaro',\n",
    "           '23': 'Quintana Roo', '24': 'San Luis Potosi', '25': 'Sinaloa', '26': 'Sonora',\n",
    "           '27': 'Tabasco', '28': 'Tamaulipas', '29': 'Tlaxcala', '30': 'Veracruz',\n",
    "           '31': 'Yucatán', '32': 'Zacatecas'}\n",
    "#Abrir cada archivo\n",
    "for archivo in file_nombre_archivos:    \n",
    "    archivo = archivo.rstrip()\n",
    "    data = json.load(open(archivo))\n",
    "    #Abrir cada sabana\n",
    "    for sabana in data['sabanas']:\n",
    "        #Contar votos revisados almenos 2 veces         \n",
    "        if int(sabana['revision']) >= 2:\n",
    "            for partido in sabana['resultados'].keys():       \n",
    "                votos_totales_entidad_revisados[sabana['entidad']][partido] = votos_totales_entidad_revisados[sabana['entidad']].get(partido, 0) + int(sabana['resultados'][partido])\n",
    "            for partido in sabana['resultados'].keys():\n",
    "                votos_totales_revisados[partido]=votos_totales_revisados.get(partido, 0)+int(sabana['resultados'][partido])\n",
    "        #Contar los votos por Entidad\n",
    "        for partido in sabana['resultados'].keys():       \n",
    "            votos_totales_entidad[sabana['entidad']][partido] = votos_totales_entidad[sabana['entidad']].get(partido, 0) + int(sabana['resultados'][partido])\n",
    "        #Contar los votos por partido\n",
    "        for partido in sabana['resultados'].keys():       \n",
    "            votos_totales[partido] = votos_totales.get(partido, 0) + int(sabana['resultados'][partido])"
   ]
  },
  {
   "cell_type": "code",
   "execution_count": 3,
   "metadata": {
    "colab": {},
    "colab_type": "code",
    "id": "8b9it47xxcpi"
   },
   "outputs": [],
   "source": [
    "# Separar los votos por partidos de los de coalicion\n",
    "votos_partidos = {p: v for p, v in votos_totales.items() if '_' not in p}\n",
    "votos_coalicion = {c: v for c, v in votos_totales.items() if '_' in c}\n",
    "\n",
    "votos_partidos_revisados = {p: v for p, v in votos_totales_revisados.items() if '_' not in p}\n",
    "votos_coalicion_revisados = {c: v for c, v in votos_totales_revisados.items() if '_' in c}\n",
    "\n",
    "votos_partidos_entidad = {entidad:{p: v for p, v in votos_totales_entidad[entidad].items() if '_' not in p} for entidad in votos_totales_entidad.keys()}\n",
    "votos_coalicion_entidad = {entidad:{c: v for c, v in votos_totales_entidad[entidad].items() if '_' in c} for entidad in votos_totales_entidad.keys()}\n",
    "\n",
    "votos_partidos_entidad_revisados = {entidad:{p: v for p, v in votos_totales_entidad_revisados[entidad].items() if '_' not in p} for entidad in votos_totales_entidad.keys()}\n",
    "votos_coalicion_entidad_revisados = {entidad:{c: v for c, v in votos_totales_entidad_revisados[entidad].items() if '_' in c} for entidad in votos_totales_entidad.keys()}"
   ]
  },
  {
   "cell_type": "markdown",
   "metadata": {
    "colab_type": "text",
    "id": "vPOwETdSiRFG"
   },
   "source": [
    "## Votos por Partidos"
   ]
  },
  {
   "cell_type": "code",
   "execution_count": 4,
   "metadata": {
    "colab": {
     "base_uri": "https://localhost:8080/",
     "height": 204
    },
    "colab_type": "code",
    "id": "cW9EfLG0s97I",
    "outputId": "729af612-297e-4d28-a9d6-749e82102c59"
   },
   "outputs": [],
   "source": [
    "# Resultados de la gráfica de Votos por Partidos\n",
    "def resultados_votos_partido(votos_p, votos_c):\n",
    "    resultados_partido = {}\n",
    "    for partido, voto_partido in votos_p.items():\n",
    "        resultados_partido[partido] = voto_partido\n",
    "        for coalicion, voto_c in votos_c.items():\n",
    "            if partido in coalicion:\n",
    "                resultados_partido[partido] = resultados_partido.get(partido, 0) + voto_c // (coalicion.count('_') + 1)\n",
    "                max_votos_partido = -1\n",
    "                max_partido = ''\n",
    "                for p in coalicion.split('_'):\n",
    "                    if votos_p[p] > max_votos_partido:\n",
    "                        max_votos_partido = votos_p[p]\n",
    "                        max_partido = p\n",
    "                if partido == max_partido:\n",
    "                    resultados_partido[partido] = resultados_partido.get(partido, 0) + voto_c % (coalicion.count('_') + 1)\n",
    "    return resultados_partido"
   ]
  },
  {
   "cell_type": "code",
   "execution_count": 5,
   "metadata": {},
   "outputs": [],
   "source": [
    "resultados_partido = resultados_votos_partido(votos_partidos, votos_coalicion)\n",
    "resultados_partido_revisados = resultados_votos_partido(votos_partidos_revisados, votos_coalicion_revisados)\n",
    "resultados_partido_entidad = {entidad: resultados_votos_partido(votos_partidos_entidad[entidad], votos_coalicion_entidad[entidad]) for entidad in votos_totales_entidad.keys()}\n",
    "resultados_partido_entidad_revisados = {entidad: resultados_votos_partido(votos_partidos_entidad_revisados[entidad], votos_coalicion_entidad_revisados[entidad]) for entidad in votos_totales_entidad.keys()}"
   ]
  },
  {
   "cell_type": "markdown",
   "metadata": {
    "colab_type": "text",
    "id": "2LOP7jmthyuu"
   },
   "source": [
    "## Votos por Candidatos"
   ]
  },
  {
   "cell_type": "code",
   "execution_count": 6,
   "metadata": {
    "colab": {
     "base_uri": "https://localhost:8080/",
     "height": 1000
    },
    "colab_type": "code",
    "id": "fMycCaSbgiMP",
    "outputId": "b59be2bb-a24a-4225-9bb4-04e5ea01ba64"
   },
   "outputs": [],
   "source": [
    "def resultados_votos_candidatos(votos_p, votos_c):\n",
    "    # Resultados de la gráfica de Votos por Candidatos\n",
    "    resultados_candidato = {}\n",
    "    for coal_1 in votos_c:\n",
    "        for coal_2 in votos_c:\n",
    "            if coal_1 != coal_2 and not set(coal_1.split('_')) - set(coal_2.split('_')):\n",
    "                break\n",
    "        else:\n",
    "            resultados_candidato[coal_1] = 0\n",
    "\n",
    "    # Agragar los votos de las coaliciones a los candidatos\n",
    "    for subcoalicion, subvotos in votos_c.items():\n",
    "        for coalicion in resultados_candidato.keys():\n",
    "            if subcoalicion[:subcoalicion.find('_')] in coalicion:\n",
    "                resultados_candidato[coalicion] = resultados_candidato.get(coalicion, 0) + subvotos\n",
    "\n",
    "    # Agragar los votos de los partidos a los candidatos\n",
    "    tmp_resultados_candidato = [i for i in resultados_candidato.keys()]\n",
    "    for partido, votos in votos_p.items(): \n",
    "        for coalicion in tmp_resultados_candidato:\n",
    "            if partido in coalicion:\n",
    "                resultados_candidato[coalicion] = resultados_candidato.get(coalicion, 0) + votos\n",
    "                break\n",
    "        else:\n",
    "            resultados_candidato[partido] =  votos\n",
    "    return resultados_candidato"
   ]
  },
  {
   "cell_type": "code",
   "execution_count": 7,
   "metadata": {},
   "outputs": [],
   "source": [
    "resultados_candidato = resultados_votos_candidatos(votos_partidos, votos_coalicion)\n",
    "resultados_candidato_revisados = resultados_votos_candidatos(votos_partidos_revisados, votos_coalicion_revisados)\n",
    "resultados_coalision_entidad = {entidad: resultados_votos_candidatos(votos_partidos_entidad[entidad], votos_coalicion_entidad[entidad]) for entidad in votos_totales_entidad.keys()}\n",
    "resultados_coalision_entidad_revisados = {entidad: resultados_votos_candidatos(votos_partidos_entidad_revisados[entidad], votos_coalicion_entidad_revisados[entidad]) for entidad in votos_totales_entidad.keys()}"
   ]
  },
  {
   "cell_type": "markdown",
   "metadata": {
    "colab_type": "text",
    "id": "ZoqWtKH2iH38"
   },
   "source": [
    "# Resultados"
   ]
  },
  {
   "cell_type": "markdown",
   "metadata": {},
   "source": [
    "# Revisión vs no revisión por partido nacionalmente"
   ]
  },
  {
   "cell_type": "code",
   "execution_count": 8,
   "metadata": {},
   "outputs": [
    {
     "name": "stdout",
     "output_type": "stream",
     "text": [
      "Partidos no revisados nacional\n",
      "pan                      2247447\n",
      "pri                      2341599\n",
      "prd                      2601010\n",
      "verde                    404150\n",
      "pt                       592917\n",
      "mov                      503683\n",
      "nuevaAlianza             203491\n",
      "noRegistrados            10632\n",
      "nulos                    163943\n",
      "------------------------------\n",
      "Partidos revisados nacional\n",
      "pan                      2178205\n",
      "pri                      2260913\n",
      "prd                      2522078\n",
      "verde                    390090\n",
      "pt                       575307\n",
      "mov                      488774\n",
      "nuevaAlianza             196698\n",
      "noRegistrados            9342\n",
      "nulos                    157324\n"
     ]
    }
   ],
   "source": [
    "print(\"Partidos no revisados nacional\")\n",
    "for k, v in resultados_partido.items():\n",
    "    print(f'{k:25}{v}')\n",
    "print(\"-\"*30)\n",
    "print(\"Partidos revisados nacional\")\n",
    "for k, v in resultados_partido_revisados.items():\n",
    "    print(f'{k:25}{v}')"
   ]
  },
  {
   "cell_type": "markdown",
   "metadata": {},
   "source": [
    "# Revisión vs no revisión por candidato nacionalmente"
   ]
  },
  {
   "cell_type": "code",
   "execution_count": 9,
   "metadata": {},
   "outputs": [
    {
     "name": "stdout",
     "output_type": "stream",
     "text": [
      "Candidatos no revisados nacional\n",
      "pri_verde                2745749\n",
      "prd_pt_mov               3697610\n",
      "pan                      2247447\n",
      "nuevaAlianza             203491\n",
      "noRegistrados            10632\n",
      "nulos                    163943\n",
      "------------------------------\n",
      "Candidatos revisados nacional\n",
      "pri_verde                2651003\n",
      "prd_pt_mov               3586159\n",
      "pan                      2178205\n",
      "nuevaAlianza             196698\n",
      "noRegistrados            9342\n",
      "nulos                    157324\n"
     ]
    }
   ],
   "source": [
    "print(\"Candidatos no revisados nacional\")\n",
    "for k, v in resultados_candidato.items():\n",
    "    print(f'{k:25}{v}')\n",
    "print(\"-\"*30)\n",
    "print(\"Candidatos revisados nacional\")\n",
    "for k, v in resultados_candidato_revisados.items():\n",
    "    print(f'{k:25}{v}')"
   ]
  },
  {
   "cell_type": "markdown",
   "metadata": {},
   "source": [
    "# Resultados de todos los votos a partidos por entidad"
   ]
  },
  {
   "cell_type": "code",
   "execution_count": 10,
   "metadata": {},
   "outputs": [
    {
     "name": "stdout",
     "output_type": "stream",
     "text": [
      "Entidad                    pan       pri       prd       verde     pt        mov       nuevaAlianzanoRegistradosnulos     Suma\n",
      "\n",
      "Aguascalientes           22048     20314     12431      3258      2807      2667      3965        94      1926      69510\n",
      "\n",
      "Baja California         127975    123625    115110     21052     25490     21513     12460       271      7141      454637\n",
      "\n",
      "Baja California Sur      12269     13321      7445      2140      2017      1852       811        21       608      40484\n",
      "\n",
      "Campeche                 10400     11940     10505      1956      2343      2860      1110        17       807      41938\n",
      "\n",
      "Coahuila                 51554     35523     23310      4473      5000      3753      3459        79      1876      129027\n",
      "\n",
      "Colima                   16177     14286      8509      1535      2193      1459       796        12       601      45568\n",
      "\n",
      "Chiapas                  18082     26897     36988     15587      8777      7332      2607        52      3467      119789\n",
      "\n",
      "Chihuahua                36283     39082     23681      5473      4814      4088      5083       110      2268      120882\n",
      "\n",
      "Ciudad de México        502860    548155    908592     99937    224969    165460     44178      3558     47310      2545019\n",
      "\n",
      "Durango                  10371     10302      5376      1442      2525      1133       892        17       460      32518\n",
      "\n",
      "Guanajuato               41663     32565     11838      5212      2164      1679      3014        45      2158      100338\n",
      "\n",
      "Guerrero                  6346     19543     24123      3450      3832      4579      1158       287      1071      64389\n",
      "\n",
      "Hidalgo                  37407     54817     48921      8653     10015      8211      7950        94      2689      178757\n",
      "\n",
      "Jalisco                 171975    128866     63889     20752     17010     44667     11350       308      9493      468310\n",
      "\n",
      "México                  287815    483044    436993     80583     87650     79733     35547      2504     27995      1521864\n",
      "\n",
      "Michoacán                26770     41385     26155      6334      4289      4216      3063       768      2557      115537\n",
      "\n",
      "Morelos                  52696     67026     76268     12089     15012     12323      5474       102      4754      245744\n",
      "\n",
      "Nayarit                   6810     12722     10417      1900      2833      2459      1040        15       652      38848\n",
      "\n",
      "Nuevo León              116953     45818     36552      5267     10388      4821      5369        93      2472      227733\n",
      "\n",
      "Oaxaca                   36139     50091     67672      7846     12418     12762      3093        74      2858      192953\n",
      "\n",
      "Puebla                  204347    144765    179260     31665     63179     43109     16764       782     12432      696303\n",
      "\n",
      "Querétaro                62623     38259     31562      4479      5632      4529      3368       112      2507      153071\n",
      "\n",
      "Quintana Roo             39208     36098     48585      6546      8116      6349      3370       109      2603      150984\n",
      "\n",
      "San Luis Potosi          61010     39057     33490      7963      6906      5879      6004       153      3999      164461\n",
      "\n",
      "Sinaloa                  20008     27668     18829      4119      3670      3378      1523        75      1222      80492\n",
      "\n",
      "Sonora                   32291     32694     21731      3842      4633      3973      1830        49      1667      102710\n",
      "\n",
      "Tabasco                   7608     37308     74823      4906     10042      9761      1087        44      2277      147856\n",
      "\n",
      "Tamaulipas               19945     14098      9777      2126      2029      1908      1144       363      1521      52911\n",
      "\n",
      "Tlaxcala                 10877     18487     19623      3261      5189      4068      2005        17      1133      64660\n",
      "\n",
      "Veracruz                149018    124566    176390     19330     31034     27874      9635       327      8693      546867\n",
      "\n",
      "Yucatán                  41128     36041     23466      4380      3754      3749      2528        48      1968      117062\n",
      "\n",
      "Zacatecas                 6791     13241      8734      2589      2173      1518      1814        32       758      37650\n",
      "\n"
     ]
    }
   ],
   "source": [
    "print(\"Entidad\", end=\" \"*20)\n",
    "for k in resultados_partido_entidad[\"1\"].keys():\n",
    "    print(f\"{k:10}\", end=\"\")\n",
    "print(\"Suma\")\n",
    "print()\n",
    "for entidad, diccionario in resultados_partido_entidad.items():\n",
    "    print(f\"{estados[entidad]:20}\", end=\"\")\n",
    "    for resultado in diccionario.values():\n",
    "        print(f\"{resultado:10}\", end = \"\")\n",
    "    print(\"     \",sum(diccionario.values()))\n",
    "    print()"
   ]
  },
  {
   "cell_type": "markdown",
   "metadata": {},
   "source": [
    "# Resultados de votos revisados a partidos por entidad"
   ]
  },
  {
   "cell_type": "code",
   "execution_count": 11,
   "metadata": {},
   "outputs": [
    {
     "name": "stdout",
     "output_type": "stream",
     "text": [
      "Entidad                    pan       pri       prd       verde     pt        mov       nuevaAlianzanoRegistradosnulos     Suma\n",
      "\n",
      "Aguascalientes           21066     19440     11818      3017      2653      2536      3760        92      1835      66217\n",
      "\n",
      "Baja California         123652    119102    111273     20299     24652     20801     12047       257      6519      438602\n",
      "\n",
      "Baja California Sur      12183     13239      7409      2127      2009      1842       805        21       603      40238\n",
      "\n",
      "Campeche                 10290     11739     10416      1942      2293      2802      1086        17       801      41386\n",
      "\n",
      "Coahuila                 49341     33846     22322      4272      4791      3606      3299        77      1805      123359\n",
      "\n",
      "Colima                   15895     14029      8372      1508      2164      1443       786        12       596      44805\n",
      "\n",
      "Chiapas                  17491     25992     35967     15104      8530      7140      2554        52      3380      116210\n",
      "\n",
      "Chihuahua                33788     36175     22116      5026      4474      3816      4699       101      2104      112299\n",
      "\n",
      "Ciudad de México        491984    536395    890136     97824    220557    162110     43320      3179     46365      2491870\n",
      "\n",
      "Durango                  10254     10159      5309      1421      2497      1126       869        17       453      32105\n",
      "\n",
      "Guanajuato               39853     31183     11314      4956      2071      1588      2909        40      2067      95981\n",
      "\n",
      "Guerrero                  6180     18747     23231      3338      3702      4428      1129       287      1026      62068\n",
      "\n",
      "Hidalgo                  36129     52848     47147      8303      9659      7899      7640        88      2579      172292\n",
      "\n",
      "Jalisco                 168375    125750     62540     20269     16658     43761     11122       304      9300      458079\n",
      "\n",
      "México                  272585    455357    413207     75922     82750     75444     33553      2029     25416      1436263\n",
      "\n",
      "Michoacán                26190     40277     25546      6130      4189      4124      2981       765      2471      112673\n",
      "\n",
      "Morelos                  51065     64672     73736     11673     14518     11935      5243        99      4606      237547\n",
      "\n",
      "Nayarit                   6557     12347     10056      1842      2756      2386      1010        14       643      37611\n",
      "\n",
      "Nuevo León              113194     44101     35368      5042     10044      4631      5213        89      2385      220067\n",
      "\n",
      "Oaxaca                   35264     48784     65782      7612     12104     12447      2992        72      2800      187857\n",
      "\n",
      "Puebla                  199284    141116    174487     30844     61526     41959     16314       775     12153      678458\n",
      "\n",
      "Querétaro                60492     36957     30316      4300      5395      4301      3273       109      2422      147565\n",
      "\n",
      "Quintana Roo             38303     34926     47376      6354      7909      6182      3282       105      2519      146956\n",
      "\n",
      "San Luis Potosi          59412     38052     32860      7768      6741      5746      5892       149      3904      160524\n",
      "\n",
      "Sinaloa                  19573     27103     18378      4016      3591      3312      1500        74      1212      78759\n",
      "\n",
      "Sonora                   31546     31997     21328      3778      4554      3912      1789        49      1644      100597\n",
      "\n",
      "Tabasco                   7450     36351     72737      4779      9747      9483      1061        43      2211      143862\n",
      "\n",
      "Tamaulipas               19613     13756      9622      1986      1956      1849      1133        26      1309      51250\n",
      "\n",
      "Tlaxcala                 10392     17414     18292      3082      4878      3822      1876        17      1086      60859\n",
      "\n",
      "Veracruz                144650    121572    172685     18832     30203     27258      9404       308      8463      533375\n",
      "\n",
      "Yucatán                  39643     34741     22546      4239      3609      3607      2424        43      1918      112770\n",
      "\n",
      "Zacatecas                 6511     12755      8419      2476      2111      1461      1733        32       729      36227\n",
      "\n"
     ]
    }
   ],
   "source": [
    "print(\"Entidad\", end=\" \"*20)\n",
    "for k in resultados_partido_entidad_revisados[\"1\"].keys():\n",
    "    print(f\"{k:10}\", end=\"\")\n",
    "print(\"Suma\")\n",
    "print()\n",
    "for entidad, diccionario in resultados_partido_entidad_revisados.items():\n",
    "    print(f\"{estados[entidad]:20}\", end=\"\")\n",
    "    for resultado in diccionario.values():\n",
    "        print(f\"{resultado:10}\", end = \"\")\n",
    "    print(\"     \",sum(diccionario.values()))\n",
    "    print()"
   ]
  },
  {
   "cell_type": "markdown",
   "metadata": {},
   "source": [
    "# Resultados de todos los votos a candidatos por entidad"
   ]
  },
  {
   "cell_type": "code",
   "execution_count": 12,
   "metadata": {},
   "outputs": [
    {
     "name": "stdout",
     "output_type": "stream",
     "text": [
      "Entidad                    pri_verde      prd_pt_mov     pan            nuevaAlianza   noRegistrados  nulos          Suma\n",
      "\n",
      "Aguascalientes                23572          17905          22048           3965             94           1926      69510\n",
      "\n",
      "Baja California              144677         162113         127975          12460            271           7141      454637\n",
      "\n",
      "Baja California Sur           15461          11314          12269            811             21            608      40484\n",
      "\n",
      "Campeche                      13896          15708          10400           1110             17            807      41938\n",
      "\n",
      "Coahuila                      39996          32063          51554           3459             79           1876      129027\n",
      "\n",
      "Colima                        15821          12161          16177            796             12            601      45568\n",
      "\n",
      "Chiapas                       42484          53097          18082           2607             52           3467      119789\n",
      "\n",
      "Chihuahua                     44555          32583          36283           5083            110           2268      120882\n",
      "\n",
      "Ciudad de México             648092        1299021         502860          44178           3558          47310      2545019\n",
      "\n",
      "Durango                       11744           9034          10371            892             17            460      32518\n",
      "\n",
      "Guanajuato                    37777          15681          41663           3014             45           2158      100338\n",
      "\n",
      "Guerrero                      22993          32534           6346           1158            287           1071      64389\n",
      "\n",
      "Hidalgo                       63470          67147          37407           7950             94           2689      178757\n",
      "\n",
      "Jalisco                      149618         125566         171975          11350            308           9493      468310\n",
      "\n",
      "México                       563627         604376         287815          35547           2504          27995      1521864\n",
      "\n",
      "Michoacán                     47719          34660          26770           3063            768           2557      115537\n",
      "\n",
      "Morelos                       79115         103603          52696           5474            102           4754      245744\n",
      "\n",
      "Nayarit                       14622          15709           6810           1040             15            652      38848\n",
      "\n",
      "Nuevo León                    51085          51761         116953           5369             93           2472      227733\n",
      "\n",
      "Oaxaca                        57937          92852          36139           3093             74           2858      192953\n",
      "\n",
      "Puebla                       176430         285548         204347          16764            782          12432      696303\n",
      "\n",
      "Querétaro                     42738          41723          62623           3368            112           2507      153071\n",
      "\n",
      "Quintana Roo                  42644          63050          39208           3370            109           2603      150984\n",
      "\n",
      "San Luis Potosi               47020          46275          61010           6004            153           3999      164461\n",
      "\n",
      "Sinaloa                       31787          25877          20008           1523             75           1222      80492\n",
      "\n",
      "Sonora                        36536          30337          32291           1830             49           1667      102710\n",
      "\n",
      "Tabasco                       42214          94626           7608           1087             44           2277      147856\n",
      "\n",
      "Tamaulipas                    16224          13714          19945           1144            363           1521      52911\n",
      "\n",
      "Tlaxcala                      21748          28880          10877           2005             17           1133      64660\n",
      "\n",
      "Veracruz                     143896         235298         149018           9635            327           8693      546867\n",
      "\n",
      "Yucatán                       40421          30969          41128           2528             48           1968      117062\n",
      "\n",
      "Zacatecas                     15830          12425           6791           1814             32            758      37650\n",
      "\n"
     ]
    }
   ],
   "source": [
    "print(\"Entidad\", end=\" \"*20)\n",
    "for k in resultados_coalision_entidad[\"1\"].keys():\n",
    "    print(f\"{k:15}\", end=\"\")\n",
    "print(\"Suma\")\n",
    "print()\n",
    "for entidad, diccionario in resultados_coalision_entidad.items():\n",
    "    print(f\"{estados[entidad]:20}\", end=\"\")\n",
    "    for resultado in diccionario.values():\n",
    "        print(f\"{resultado:15}\", end = \"\")\n",
    "    print(\"     \",sum(diccionario.values()))\n",
    "    print()"
   ]
  },
  {
   "cell_type": "markdown",
   "metadata": {},
   "source": [
    "# Resultados de los votos revisados a candidatos por entidad"
   ]
  },
  {
   "cell_type": "code",
   "execution_count": 13,
   "metadata": {},
   "outputs": [
    {
     "name": "stdout",
     "output_type": "stream",
     "text": [
      "Entidad                    pri_verde      prd_pt_mov     pan            nuevaAlianza   noRegistrados  nulos          Suma\n",
      "\n",
      "Aguascalientes                22457          17007          21066           3760             92           1835      66217\n",
      "\n",
      "Baja California              139401         156726         123652          12047            257           6519      438602\n",
      "\n",
      "Baja California Sur           15366          11260          12183            805             21            603      40238\n",
      "\n",
      "Campeche                      13681          15511          10290           1086             17            801      41386\n",
      "\n",
      "Coahuila                      38118          30719          49341           3299             77           1805      123359\n",
      "\n",
      "Colima                        15537          11979          15895            786             12            596      44805\n",
      "\n",
      "Chiapas                       41096          51637          17491           2554             52           3380      116210\n",
      "\n",
      "Chihuahua                     41201          30406          33788           4699            101           2104      112299\n",
      "\n",
      "Ciudad de México             634219        1272803         491984          43320           3179          46365      2491870\n",
      "\n",
      "Durango                       11580           8932          10254            869             17            453      32105\n",
      "\n",
      "Guanajuato                    36139          14973          39853           2909             40           2067      95981\n",
      "\n",
      "Guerrero                      22085          31361           6180           1129            287           1026      62068\n",
      "\n",
      "Hidalgo                       61151          64705          36129           7640             88           2579      172292\n",
      "\n",
      "Jalisco                      146019         122959         168375          11122            304           9300      458079\n",
      "\n",
      "México                       531279         571401         272585          33553           2029          25416      1436263\n",
      "\n",
      "Michoacán                     46407          33859          26190           2981            765           2471      112673\n",
      "\n",
      "Morelos                       76345         100189          51065           5243             99           4606      237547\n",
      "\n",
      "Nayarit                       14189          15198           6557           1010             14            643      37611\n",
      "\n",
      "Nuevo León                    49143          50043         113194           5213             89           2385      220067\n",
      "\n",
      "Oaxaca                        56396          90333          35264           2992             72           2800      187857\n",
      "\n",
      "Puebla                       171960         277972         199284          16314            775          12153      678458\n",
      "\n",
      "Querétaro                     41257          40012          60492           3273            109           2422      147565\n",
      "\n",
      "Quintana Roo                  41280          61467          38303           3282            105           2519      146956\n",
      "\n",
      "San Luis Potosi               45820          45347          59412           5892            149           3904      160524\n",
      "\n",
      "Sinaloa                       31119          25281          19573           1500             74           1212      78759\n",
      "\n",
      "Sonora                        35775          29794          31546           1789             49           1644      100597\n",
      "\n",
      "Tabasco                       41130          91967           7450           1061             43           2211      143862\n",
      "\n",
      "Tamaulipas                    15742          13427          19613           1133             26           1309      51250\n",
      "\n",
      "Tlaxcala                      20496          26992          10392           1876             17           1086      60859\n",
      "\n",
      "Veracruz                     140404         230146         144650           9404            308           8463      533375\n",
      "\n",
      "Yucatán                       38980          29762          39643           2424             43           1918      112770\n",
      "\n",
      "Zacatecas                     15231          11991           6511           1733             32            729      36227\n",
      "\n"
     ]
    }
   ],
   "source": [
    "print(\"Entidad\", end=\" \"*20)\n",
    "for k in resultados_coalision_entidad_revisados[\"1\"].keys():\n",
    "    print(f\"{k:15}\", end=\"\")\n",
    "print(\"Suma\")\n",
    "print()\n",
    "for entidad, diccionario in resultados_coalision_entidad_revisados.items():\n",
    "    print(f\"{estados[entidad]:20}\", end=\"\")\n",
    "    for resultado in diccionario.values():\n",
    "        print(f\"{resultado:15}\", end = \"\")\n",
    "    print(\"     \",sum(diccionario.values()))\n",
    "    print()"
   ]
  }
 ],
 "metadata": {
  "colab": {
   "collapsed_sections": [],
   "name": "AnalisisElecciones2012.ipynb",
   "provenance": []
  },
  "kernelspec": {
   "display_name": "Python 3",
   "language": "python",
   "name": "python3"
  },
  "language_info": {
   "codemirror_mode": {
    "name": "ipython",
    "version": 3
   },
   "file_extension": ".py",
   "mimetype": "text/x-python",
   "name": "python",
   "nbconvert_exporter": "python",
   "pygments_lexer": "ipython3",
   "version": "3.7.3"
  }
 },
 "nbformat": 4,
 "nbformat_minor": 1
}
